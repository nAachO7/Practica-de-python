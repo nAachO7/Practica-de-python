{
 "cells": [
  {
   "cell_type": "code",
   "execution_count": 16,
   "metadata": {},
   "outputs": [
    {
     "name": "stdout",
     "output_type": "stream",
     "text": [
      "['mate', 'filo', 'bio', 'lite']\n"
     ]
    },
    {
     "data": {
      "text/plain": [
       "list"
      ]
     },
     "execution_count": 16,
     "metadata": {},
     "output_type": "execute_result"
    }
   ],
   "source": [
    "lista=['mate', 'filo', 'bio', 'lite']\n",
    "print(lista)\n",
    "type(lista)"
   ]
  },
  {
   "cell_type": "code",
   "execution_count": 17,
   "metadata": {},
   "outputs": [
    {
     "name": "stdout",
     "output_type": "stream",
     "text": [
      "Yo estudio  mate\n",
      "Yo estudio  filo\n",
      "Yo estudio  bio\n",
      "Yo estudio  lite\n"
     ]
    }
   ],
   "source": [
    "materias=['mate', 'filo', 'bio', 'lite']\n",
    "for materia in materias:\n",
    "    print('Yo estudio ', materia)"
   ]
  },
  {
   "cell_type": "code",
   "execution_count": 18,
   "metadata": {},
   "outputs": [
    {
     "name": "stdout",
     "output_type": "stream",
     "text": [
      "En mate has sacado 4\n",
      "En filo has sacado 4\n",
      "En bio has sacado 4\n",
      "En lite has sacado 4\n",
      "En fisica has sacado \n",
      "En quimica has sacado \n",
      "En historia has sacado 4\n"
     ]
    }
   ],
   "source": [
    "materias=['mate', 'filo', 'bio', 'lite', 'fisica','quimica', 'historia']\n",
    "notas=[]\n",
    "for materia in materias:\n",
    "    nota=input(f\"introdusca su nota en: {materia}\")\n",
    "    notas.append(nota)\n",
    "for n in range(len(materias)):\n",
    "    print(f'En {materias[n]} has sacado {notas[n]}')"
   ]
  },
  {
   "cell_type": "code",
   "execution_count": 26,
   "metadata": {},
   "outputs": [
    {
     "name": "stdout",
     "output_type": "stream",
     "text": [
      "Introdusca el numero de la loteria\n",
      "[4, 4, 6, 7, 7, 8]\n"
     ]
    }
   ],
   "source": [
    "print(\"Introdusca el numero de la loteria\")\n",
    "winner=[]\n",
    "for i in range(6):\n",
    "    winner.append(int(input(\"introdusca un numero ganador\")))\n",
    "winner.sort()\n",
    "\n",
    "print(str(winner))"
   ]
  },
  {
   "cell_type": "code",
   "execution_count": 35,
   "metadata": {},
   "outputs": [
    {
     "name": "stdout",
     "output_type": "stream",
     "text": [
      "10,9,8,7,6,5,4,3,2,1,"
     ]
    }
   ],
   "source": [
    "numbers=[1,2,3,4,5,6,7,8,9,10]\n",
    "numbers.sort(reverse=True)\n",
    "for number in numbers:\n",
    "    print(number, end=\",\")\n"
   ]
  }
 ],
 "metadata": {
  "kernelspec": {
   "display_name": "Python 3",
   "language": "python",
   "name": "python3"
  },
  "language_info": {
   "codemirror_mode": {
    "name": "ipython",
    "version": 3
   },
   "file_extension": ".py",
   "mimetype": "text/x-python",
   "name": "python",
   "nbconvert_exporter": "python",
   "pygments_lexer": "ipython3",
   "version": "3.10.12"
  }
 },
 "nbformat": 4,
 "nbformat_minor": 2
}
